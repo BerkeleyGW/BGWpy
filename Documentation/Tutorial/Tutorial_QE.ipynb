{
 "cells": [
  {
   "cell_type": "markdown",
   "metadata": {},
   "source": [
    "# Comments on BGWpy in General #\n",
    "\n",
    "* To cut down on the number of parameters and parameter reuse, I made extensive use of dictionary unpacking.\n",
    "* Tasks should be able to report the filenames of their output files to future tasks, i.e. I should be able to grab the filename path of the WFN_co file from the associated WFN_co workflow and pass it into Sigma.  This would cut down a lot of duplication.\n",
    "* For MPI calculations, I should be able to omit the node-specific values (`nproc_per_node` and `nproc_per_node_flag`) from runscripts after install.\n",
    "* When a task is unfinished, perhaps output a bit of the output file so we have an idea why it's unfinished?\n",
    "* This workflow is a natural candidate for a DAG implementation."
   ]
  },
  {
   "cell_type": "markdown",
   "metadata": {},
   "source": [
    "# Comment on This Notebook in Particular #"
   ]
  },
  {
   "cell_type": "markdown",
   "metadata": {},
   "source": [
    "* Needs much more meaningful interactivity.  Right now, it's just \"run this calculation, it's successful, let's move on\".\n",
    "* No explanation of parameters are provided.  Really should explain the important ones.\n",
    "* A fair amount of hardcoded values, especially regarding filenames and paths.\n",
    "* I've left out `GWFlow` and `BSEFlow` for now.  My worry is that people will abuse this and not properly converge calculations."
   ]
  },
  {
   "cell_type": "markdown",
   "metadata": {},
   "source": [
    "# Introduction to BerkeleyGW #"
   ]
  },
  {
   "cell_type": "markdown",
   "metadata": {},
   "source": [
    "Here's where we put a bunch of stuff about BerkeleyGW:\n",
    "\n",
    "* What scientific problem it solves\n",
    "* What level of theory it works on\n",
    "* What values it calculates\n",
    "* How the overall workflow looks\n",
    "* Its file-based communication structure\n",
    "* What inputs the overall workflow needs (here, a structure representable by pymatgen and Quantum ESPRESSO pseudopotential files.)\n",
    "\n",
    "Only as much information should be provided as is needed as to understand this notebook; everything else can be relegated to hyperlinks to external websites.\n",
    "\n",
    "We should also stress that the parameters chosen for this notebook were used to allow a calculation to run relatively quickly on a standard workstation and are not even close to converged."
   ]
  },
  {
   "cell_type": "markdown",
   "metadata": {},
   "source": [
    "# Running This Notebook #"
   ]
  },
  {
   "cell_type": "markdown",
   "metadata": {},
   "source": [
    "To run this notebook, we assume that you have the following packages installed:\n",
    "\n",
    "* Jupyter Notebook (otherwise you wouldn't be read this!)\n",
    "* Quantum ESPRESSO\n",
    "* BerkeleyGW\n",
    "* BGWpy\n",
    "\n",
    "We also assume that you have a basic knowledge of Python and its terminology.\n",
    "\n",
    "To run BGWpy, you'll also need the `bin` directories of Quantum ESPRESSO and BerkeleyGW installations located in your `PATH` environment variable.\n",
    "\n",
    "As with all Python-related projects, we highly recommend that you install BGWpy into its own `conda` or `virtualenv` environment.  For more information, please see TODO."
   ]
  },
  {
   "cell_type": "markdown",
   "metadata": {},
   "source": [
    "# Debug Stuff (Optional!) #"
   ]
  },
  {
   "cell_type": "markdown",
   "metadata": {},
   "source": [
    "The following cell is used to generate information that we'll need, should we have to debug this notebook.  You don't need to run it, but it may be useful to look at for educational purposes."
   ]
  },
  {
   "cell_type": "code",
   "execution_count": 48,
   "metadata": {},
   "outputs": [
    {
     "name": "stdout",
     "output_type": "stream",
     "text": [
      "Python kernel:\n",
      "    /usr/local/opt/python@3.9/bin/python3.9\n",
      "Python version:\n",
      "    3.9.7 (default, Oct 13 2021, 06:45:31) \n",
      "[Clang 13.0.0 (clang-1300.0.29.3)]\n",
      "Current working directory:\n",
      "    /Users/antonius/Software/BGWpy/Documentation/Tutorial\n",
      "Use HDF5?:\n",
      "    True\n",
      "Use complex version of BerkeleyGW?:\n",
      "    True\n",
      "DFT Flavor:\n",
      "    espresso\n",
      "Default MPI settings:\n",
      "    {'mpirun': 'mpirun', 'nproc': '1', 'nproc_flag': '-n', 'nproc_per_node': '1', 'nproc_per_node_flag': '--npernode', 'nodes': '', 'nodes_flag': ''}\n",
      "Default runscript settings:\n",
      "    {'first_line': '#!/bin/sh', 'header': '\\n# Lines before execution', 'footer': '\\n# Lines after execution'}\n",
      "Paths in $PATH:\n",
      "    /usr/local/opt/sphinx-doc/bin\n",
      "    /Applications/Inkscape.app/Contents/MacOS\n",
      "    /Users/antonius/Software/QuantumESPRESSO/qe-6.8/bin\n",
      "    /Users/antonius/Software/BerkeleyGW/BerkeleyGW-git/bin\n",
      "    /Users/antonius/Software/Abinit/abinit-9.4.0/build6/src/98_main\n",
      "    /Users/Antonius/.local/bin\n",
      "    /Users/Antonius/Library/Python/3.9/bin/\n",
      "    /usr/local/bin\n",
      "    /usr/bin\n",
      "    /bin\n",
      "    /usr/sbin\n",
      "    /sbin\n",
      "    /Library/TeX/texbin\n"
     ]
    }
   ],
   "source": [
    "import sys\n",
    "import os\n",
    "import BGWpy.config as defaults\n",
    "\n",
    "print(\"Python kernel:\\n    {}\".format(sys.executable))\n",
    "print(\"Python version:\\n    {}\".format(sys.version))\n",
    "print(\"Current working directory:\\n    {}\".format(os.getcwd()))\n",
    "print(\"Use HDF5?:\\n    {}\".format(defaults.flavors['use_hdf5']))\n",
    "print(\"Use complex version of BerkeleyGW?:\\n    {}\".format(defaults.flavors['flavor_complex']))\n",
    "print(\"DFT Flavor:\\n    {}\".format(defaults.flavors['dft_flavor']))\n",
    "print(\"Default MPI settings:\\n    {}\".format(defaults.default_mpi))\n",
    "print(\"Default runscript settings:\\n    {}\".format(defaults.default_runscript))\n",
    "print(\"Paths in $PATH:\")\n",
    "for i in os.environ['PATH'].split(\":\"):\n",
    "    print(\"    {}\".format(i))"
   ]
  },
  {
   "cell_type": "markdown",
   "metadata": {},
   "source": [
    "# Load Libraries #"
   ]
  },
  {
   "cell_type": "markdown",
   "metadata": {},
   "source": [
    "First, we load two external packages which BGWpy uses:  `numpy` and `pymatgen`."
   ]
  },
  {
   "cell_type": "code",
   "execution_count": 49,
   "metadata": {},
   "outputs": [],
   "source": [
    "import pymatgen\n",
    "import numpy as np"
   ]
  },
  {
   "cell_type": "markdown",
   "metadata": {},
   "source": [
    "Next, we load the `Structure` class from the BGWpy package.  This module is responsible for creating geometries that BGWpy can read and manipulate using the `pymatgen` package."
   ]
  },
  {
   "cell_type": "code",
   "execution_count": 50,
   "metadata": {},
   "outputs": [],
   "source": [
    "from BGWpy import Structure"
   ]
  },
  {
   "cell_type": "markdown",
   "metadata": {},
   "source": [
    "Next, we load the classes which create and run Quantum ESPRESSO calculations."
   ]
  },
  {
   "cell_type": "code",
   "execution_count": 51,
   "metadata": {},
   "outputs": [],
   "source": [
    "from BGWpy import QeScfTask, QeBgwFlow"
   ]
  },
  {
   "cell_type": "markdown",
   "metadata": {},
   "source": [
    "Finally, we load the classes with create and run BerkeleyGW calculations."
   ]
  },
  {
   "cell_type": "code",
   "execution_count": 52,
   "metadata": {},
   "outputs": [],
   "source": [
    "from BGWpy import EpsilonTask, SigmaTask, KernelTask, AbsorptionTask"
   ]
  },
  {
   "cell_type": "markdown",
   "metadata": {},
   "source": [
    "Make sure that both the BerkeleyGW and Quantum ESPRESSO binary folders are in the PATH folder"
   ]
  },
  {
   "cell_type": "markdown",
   "metadata": {},
   "source": [
    "# Create the Structure #"
   ]
  },
  {
   "cell_type": "markdown",
   "metadata": {},
   "source": [
    "For this tutorial, we'll calculate the many-body properties of the GaAs primitive cell.  All files that you will need have been provided for you in the `Data` subdirectory.\n",
    "\n",
    "SHOW PICTURE HERE.  (Even better if can play using `pymatgen`...)"
   ]
  },
  {
   "cell_type": "markdown",
   "metadata": {},
   "source": [
    "Geometries are specified in BGWpy using pymatgen's `Structure` class, which may be imported directly from BGWpy or through pymatgen.\n",
    "\n",
    "There are a number of ways that we can import geometries into BGWpy using the `Structure` class.  For example, we can load them from a pre-existing CIF file:"
   ]
  },
  {
   "cell_type": "code",
   "execution_count": 53,
   "metadata": {},
   "outputs": [
    {
     "name": "stdout",
     "output_type": "stream",
     "text": [
      "Full Formula (Ga1 As1)\n",
      "Reduced Formula: GaAs\n",
      "abc   :   3.997628   3.997628   3.997628\n",
      "angles:  60.000000  60.000000  60.000000\n",
      "Sites (2)\n",
      "  #  SP       a     b     c\n",
      "---  ----  ----  ----  ----\n",
      "  0  Ga    0     0     0\n",
      "  1  As    0.25  0.25  0.25\n"
     ]
    }
   ],
   "source": [
    "structure = Structure.from_file('../Data/Structures/GaAs.cif')\n",
    "print(structure)"
   ]
  },
  {
   "cell_type": "markdown",
   "metadata": {},
   "source": [
    "We can also load them from a previous pymatgen Structure which has been exported to a file in the JSON format:"
   ]
  },
  {
   "cell_type": "code",
   "execution_count": 54,
   "metadata": {},
   "outputs": [
    {
     "name": "stdout",
     "output_type": "stream",
     "text": [
      "Full Formula (Ga1 As1)\n",
      "Reduced Formula: GaAs\n",
      "abc   :   3.997628   3.997628   3.997628\n",
      "angles:  60.000000  60.000000  60.000000\n",
      "Sites (2)\n",
      "  #  SP       a     b     c\n",
      "---  ----  ----  ----  ----\n",
      "  0  Ga    0     0     0\n",
      "  1  As    0.25  0.25  0.25\n"
     ]
    }
   ],
   "source": [
    "Structure.from_file('../Data/Structures/GaAs.json')\n",
    "print(structure)"
   ]
  },
  {
   "cell_type": "markdown",
   "metadata": {},
   "source": [
    "We can even use pymatgen to directly create the structure in a Python script:"
   ]
  },
  {
   "cell_type": "code",
   "execution_count": 55,
   "metadata": {},
   "outputs": [
    {
     "name": "stdout",
     "output_type": "stream",
     "text": [
      "Full Formula (Ga1 As1)\n",
      "Reduced Formula: GaAs\n",
      "abc   :   3.997628   3.997628   3.997628\n",
      "angles:  60.000000  60.000000  60.000000\n",
      "Sites (2)\n",
      "  #  SP       a     b     c\n",
      "---  ----  ----  ----  ----\n",
      "  0  Ga    0     0     0\n",
      "  1  As    0.25  0.25  0.25\n"
     ]
    }
   ],
   "source": [
    "acell_angstrom =  5.6535\n",
    "rprim = np.array([[.0,.5,.5],[.5,.0,.5],[.5,.5,.0]]) * acell_angstrom\n",
    "structure = pymatgen.Structure(\n",
    "    lattice = pymatgen.core.lattice.Lattice(rprim),\n",
    "    species= ['Ga', 'As'],\n",
    "    coords = [3*[.0], 3*[.25]],\n",
    "    )\n",
    "print(structure)"
   ]
  },
  {
   "cell_type": "markdown",
   "metadata": {},
   "source": [
    "For more information about pymatgen, please consult its official documentation."
   ]
  },
  {
   "cell_type": "markdown",
   "metadata": {},
   "source": [
    "# Generating the Ground State Density #"
   ]
  },
  {
   "cell_type": "markdown",
   "metadata": {},
   "source": [
    "To begin, we will run a ground state DFT calculation to self-consistency to generate the ground state charge density for the calculation.  This ground state charge density will be fed into all wavefunction calculations in the next step.  We use Quantum ESPRESSO in this notebook, however BerkeleyGW and BGWpy supports a number of other DFT packages.\n",
    "\n",
    "First, we will create a object of the `QeScfTask` task to prepare the needed variables:"
   ]
  },
  {
   "cell_type": "code",
   "execution_count": 56,
   "metadata": {},
   "outputs": [],
   "source": [
    "scf_task = QeScfTask(\n",
    "    dirname='Runs_qe/11-Density',\n",
    "\n",
    "    structure=structure,\n",
    "    prefix='GaAs',\n",
    "    pseudo_dir='../Data/Pseudos',\n",
    "    pseudos=['31-Ga.PBE.UPF', '33-As.PBE.UPF'],\n",
    "\n",
    "    ngkpt=[2, 2, 2],      # k-points grid\n",
    "    kshift=[.5, .5, .5],  # k-points shift\n",
    "    ecutwfc=10.0,       # Wavefunctions cutoff energy\n",
    "\n",
    "    # These are the default parameters for the MPI runner.\n",
    "    # Please adapt them to your needs.\n",
    "    nproc=1,\n",
    "    nproc_per_node=1,\n",
    "    mpirun='mpirun',\n",
    "    nproc_flag='-n',\n",
    "    nproc_per_node_flag='--npernode',\n",
    ")"
   ]
  },
  {
   "cell_type": "markdown",
   "metadata": {},
   "source": [
    "As you can see, BGWpy has a number of parameters that you will need to set.  However, many of these parameters are consistent from calculation to calculation, so we'll store them in dictionaries that we can reuse for future steps.\n",
    "\n",
    "First, a dictionary to store all variables that will be used across all Quantum ESPRESSO calculations:"
   ]
  },
  {
   "cell_type": "code",
   "execution_count": 57,
   "metadata": {},
   "outputs": [],
   "source": [
    "qe_general_settings = {\n",
    "    'prefix': 'GaAs',\n",
    "    'pseudo_dir': '../Data/Pseudos',\n",
    "    'pseudos': ['31-Ga.PBE.UPF', '33-As.PBE.UPF'],\n",
    "}"
   ]
  },
  {
   "cell_type": "markdown",
   "metadata": {},
   "source": [
    "Next, a dictionary to store the variables which are used only for this particular SCF task:"
   ]
  },
  {
   "cell_type": "code",
   "execution_count": 58,
   "metadata": {},
   "outputs": [],
   "source": [
    "qe_scf_settings = {\n",
    "    'ngkpt': [2, 2, 2],\n",
    "    'kshift': [.5, .5, .5],\n",
    "    'ecutwfc': 10.0,\n",
    "}"
   ]
  },
  {
   "cell_type": "markdown",
   "metadata": {},
   "source": [
    "And finally, a dictionary to store the settings related to running calculations with MPI."
   ]
  },
  {
   "cell_type": "code",
   "execution_count": 59,
   "metadata": {},
   "outputs": [],
   "source": [
    "mpi_settings = {\n",
    "    'nproc': 4,\n",
    "    'mpirun': 'mpirun',\n",
    "    'nproc_flag': '-n',\n",
    "    'nproc_per_node_flag': \" \", # Set to a single space to omit\n",
    "    'nproc_per_node': \" \", # Set to a single space to omit\n",
    "}"
   ]
  },
  {
   "cell_type": "markdown",
   "metadata": {},
   "source": [
    "Note that all these dictionaries correspond to arguments for the `QeScfTask`, stored as key/value pairs.  This allows us to use dictionary unpacking (see TODO for more information) to considerably tidy up our code:"
   ]
  },
  {
   "cell_type": "code",
   "execution_count": 60,
   "metadata": {},
   "outputs": [],
   "source": [
    "scf_task = QeScfTask(\n",
    "    dirname='Runs_qe/11-Density',\n",
    "    structure=structure,\n",
    "    **qe_general_settings,\n",
    "    **qe_scf_settings,\n",
    "    **mpi_settings,\n",
    ")"
   ]
  },
  {
   "cell_type": "markdown",
   "metadata": {},
   "source": [
    "Now that we've created the `QeScfTask` task, we can use the `write` method to write the needed input files to disk:"
   ]
  },
  {
   "cell_type": "code",
   "execution_count": 61,
   "metadata": {},
   "outputs": [],
   "source": [
    "scf_task.write()"
   ]
  },
  {
   "cell_type": "markdown",
   "metadata": {},
   "source": [
    "If you receive an error message stating that an executable could not be found, you likely do not have the needed BerkeleyGW and Quantum ESPRESSO `bin` folders in your `PATH` environment variable.\n",
    "\n",
    "Let's take a look at the folder that was created by this task using Jupyter's built-in `!ls` magic command:"
   ]
  },
  {
   "cell_type": "code",
   "execution_count": 62,
   "metadata": {},
   "outputs": [
    {
     "name": "stdout",
     "output_type": "stream",
     "text": [
      "\u001b[34mGaAs.save\u001b[m\u001b[m run.sh    scf.in\r\n"
     ]
    }
   ],
   "source": [
    "!ls 'Runs_qe/11-Density'"
   ]
  },
  {
   "cell_type": "markdown",
   "metadata": {},
   "source": [
    "In our new folder, there are two input files:\n",
    "\n",
    "* `scf.in`, the input file for Quantum ESPRESSO, and\n",
    "* `run.sh`, the script that will be used to run Quantum ESPRESSO.\n",
    "\n",
    "`GaAs.save` is a folder used by Quantum ESPRESSO to store intermediate files.\n",
    "\n",
    "Now that we've created the needed input files, let's run the `run.sh` script using the `run` method.  Note that this step will take a few seconds, as it will run Quantum ESPRESSO in the background."
   ]
  },
  {
   "cell_type": "code",
   "execution_count": 63,
   "metadata": {},
   "outputs": [],
   "source": [
    "scf_task.run()"
   ]
  },
  {
   "cell_type": "markdown",
   "metadata": {},
   "source": [
    "Finally, we can check the status of the calculation using the `report` method.  You should see a message telling you that it's been completed."
   ]
  },
  {
   "cell_type": "code",
   "execution_count": 64,
   "metadata": {},
   "outputs": [
    {
     "name": "stdout",
     "output_type": "stream",
     "text": [
      "   SCF        : Runs_qe/11-Density                     -  Status :  \u001b[92mCompleted\u001b[0m\n"
     ]
    }
   ],
   "source": [
    "scf_task.report()"
   ]
  },
  {
   "cell_type": "markdown",
   "metadata": {},
   "source": [
    "Our calculation creates two files that we'll need for the generation of wavefunction files.  We'll store their filenames to reuse later."
   ]
  },
  {
   "cell_type": "code",
   "execution_count": 65,
   "metadata": {},
   "outputs": [
    {
     "name": "stdout",
     "output_type": "stream",
     "text": [
      "Charge density file name: Runs_qe/11-Density/GaAs.save/charge-density.hdf5\n",
      "Data file name:           Runs_qe/11-Density/GaAs.save/data-file-schema.xml\n"
     ]
    }
   ],
   "source": [
    "charge_density_fname = scf_task.charge_density_fname\n",
    "data_file_fname = scf_task.data_file_fname\n",
    "print(\"Charge density file name: {}\".format(charge_density_fname))\n",
    "print(\"Data file name:           {}\".format(data_file_fname))"
   ]
  },
  {
   "cell_type": "markdown",
   "metadata": {},
   "source": [
    "# Generating the Wavefunctions #"
   ]
  },
  {
   "cell_type": "markdown",
   "metadata": {},
   "source": [
    "Now that we've generated the ground state density, we'll used this to generate the wavefunctions that we'll feed into BerkeleyGW.  This may be done with the ` QeBgwFlow` class.  As mentioned in the introduction, we'll need up to 6 different types of wavefunction files."
   ]
  },
  {
   "cell_type": "markdown",
   "metadata": {},
   "source": [
    "## WFN ##"
   ]
  },
  {
   "cell_type": "markdown",
   "metadata": {},
   "source": [
    "`WFN` is the \"standard\" k-shifted wavefunction file which is read by the `Epsilon` calculation, and thus is needed for all BerkeleyGW calculations.\n",
    "\n",
    "It (and all other wavefunction files) are generated using the `QeBgwFlow` class.  The only difference between these wavefunction types are the parameter values used:"
   ]
  },
  {
   "cell_type": "code",
   "execution_count": 66,
   "metadata": {},
   "outputs": [],
   "source": [
    "wfn_flow = QeBgwFlow(\n",
    "    dirname='Runs_qe/12-Wfn',\n",
    "    structure=structure,\n",
    "\n",
    "    prefix='GaAs',\n",
    "    pseudo_dir='Data/Pseudos',\n",
    "    pseudos=['31-Ga.PBE.UPF', '33-As.PBE.UPF'],\n",
    "\n",
    "    charge_density_fname='Runs_qe/11-Density/GaAs.save/charge-density.dat',\n",
    "    data_file_fname='Runs_qe/11-Density/GaAs.save/data-file.xml',\n",
    "\n",
    "    ngkpt=[2, 2, 2],      # k-points grid\n",
    "    kshift=[.5, .5, .5],  # k-points shift\n",
    "    ecutwfc=10.0,       # Wavefunctions cutoff energy\n",
    "    nbnd=9,             # Number of bands\n",
    "\n",
    "    # These are the default parameters for the MPI runner.\n",
    "    # Please adapt them to your needs.\n",
    "    nproc=1,\n",
    "    nproc_per_node=1,\n",
    "    mpirun='mpirun',\n",
    "    nproc_flag='-n',\n",
    "    nproc_per_node_flag='--npernode'\n",
    ")"
   ]
  },
  {
   "cell_type": "markdown",
   "metadata": {},
   "source": [
    "As before, we will break up these arguments into sets of dictionaries: the settings common to all wavefunction calculations"
   ]
  },
  {
   "cell_type": "code",
   "execution_count": 67,
   "metadata": {},
   "outputs": [],
   "source": [
    "qe_wfn_input_files = {\n",
    "    'charge_density_fname': charge_density_fname,\n",
    "    'data_file_fname': data_file_fname\n",
    "}"
   ]
  },
  {
   "cell_type": "markdown",
   "metadata": {},
   "source": [
    "and the arguments specific to the current wavefunction calculation"
   ]
  },
  {
   "cell_type": "code",
   "execution_count": 68,
   "metadata": {},
   "outputs": [],
   "source": [
    "qe_wfn_settings = {\n",
    "    'ecutwfc': 10.0,\n",
    "    'ngkpt': [2, 2, 2],\n",
    "    'kshift': [.5, .5, .5],\n",
    "    'nbnd': 9,\n",
    "}"
   ]
  },
  {
   "cell_type": "markdown",
   "metadata": {},
   "source": [
    "Note that, because we've already set up the `qe_general_settings` and `mpi_settings` dictionaries, we don't need to re-declare them here.\n",
    "\n",
    "We can now create the instance of the `QeBgwFlow` class:"
   ]
  },
  {
   "cell_type": "code",
   "execution_count": 69,
   "metadata": {},
   "outputs": [],
   "source": [
    "wfn_flow = QeBgwFlow(\n",
    "    dirname='Runs_qe/12-Wfn',\n",
    "    structure=structure,\n",
    "    **qe_general_settings,\n",
    "    **qe_wfn_input_files,\n",
    "    **qe_wfn_settings,\n",
    "    **mpi_settings,\n",
    ")"
   ]
  },
  {
   "cell_type": "markdown",
   "metadata": {},
   "source": [
    "As before, we'll write the input files to disc then run the calculation:"
   ]
  },
  {
   "cell_type": "code",
   "execution_count": 70,
   "metadata": {},
   "outputs": [
    {
     "name": "stdout",
     "output_type": "stream",
     "text": [
      "   Wfn        : Runs_qe/12-Wfn                         -  Status :  \u001b[92mCompleted\u001b[0m\n",
      "   PW2BGW     : Runs_qe/12-Wfn                         -  Status :  \u001b[92mCompleted\u001b[0m\n"
     ]
    }
   ],
   "source": [
    "wfn_flow.write()\n",
    "wfn_flow.run()\n",
    "wfn_flow.report()"
   ]
  },
  {
   "cell_type": "markdown",
   "metadata": {},
   "source": [
    "The output specifies that we've actually run two calculations here:  a `WFN` calculation where we calculate wavefunctions using Quantum ESPRESSO, and `PW2BGW` where we convert the resulting Quantum-ESPRESSO-specific output files into a format readable by BerkeleyGW.  Unlike in the density case where we ran a single task, here we're running two tasks (`WFN` and `PW2BGW`) in a workflow (hence the name `QeBgwFlow`)."
   ]
  },
  {
   "cell_type": "markdown",
   "metadata": {},
   "source": [
    "# WFNq #"
   ]
  },
  {
   "cell_type": "markdown",
   "metadata": {},
   "source": [
    "Next, we'll create `WFNq`, which is the \"standard\" k-shifted and q-shifted wavefunction file which is read by the `Epsilon` calculation, and thus is needed for all BerkeleyGW calculations.\n",
    "\n",
    "The only dictionary we need to create is are the settings specific to the `WFNq` wavefunction:"
   ]
  },
  {
   "cell_type": "code",
   "execution_count": 71,
   "metadata": {},
   "outputs": [],
   "source": [
    "qe_wfnq_settings = {\n",
    "    'ecutwfc': qe_wfn_settings['ecutwfc'],\n",
    "    'ngkpt': qe_wfn_settings['ngkpt'],\n",
    "    'kshift': qe_wfn_settings['kshift'],\n",
    "    'qshift': [.001, .0, .0],\n",
    "}"
   ]
  },
  {
   "cell_type": "markdown",
   "metadata": {},
   "source": [
    "And then we can prepare the calculation:"
   ]
  },
  {
   "cell_type": "code",
   "execution_count": 72,
   "metadata": {},
   "outputs": [],
   "source": [
    "wfnq_flow = QeBgwFlow(\n",
    "    dirname='Runs_qe/13-Wfnq',\n",
    "    structure=structure,\n",
    "    **qe_general_settings,\n",
    "    **qe_wfn_input_files,\n",
    "    **qe_wfnq_settings,\n",
    "    **mpi_settings,\n",
    ")"
   ]
  },
  {
   "cell_type": "markdown",
   "metadata": {},
   "source": [
    "Create and run it:"
   ]
  },
  {
   "cell_type": "code",
   "execution_count": 73,
   "metadata": {},
   "outputs": [
    {
     "name": "stdout",
     "output_type": "stream",
     "text": [
      "   Wfn        : Runs_qe/13-Wfnq                        -  Status :  \u001b[92mCompleted\u001b[0m\n",
      "   PW2BGW     : Runs_qe/13-Wfnq                        -  Status :  \u001b[92mCompleted\u001b[0m\n"
     ]
    }
   ],
   "source": [
    "wfnq_flow.write()\n",
    "wfnq_flow.run()\n",
    "wfnq_flow.report()"
   ]
  },
  {
   "cell_type": "markdown",
   "metadata": {},
   "source": [
    "## Wfn_co ##"
   ]
  },
  {
   "cell_type": "markdown",
   "metadata": {},
   "source": [
    "Next, we'll create `WFN_co`, which is the wavefunction on a coarser (and unshifted) grid than `WFN`.  This is used by `Sigma`, `Kernel`, and `Absorption`, and thus will be needed by most BerkeleyGW calculations.  we will also use this calculation to generate the ground state density and exchange-correlation energy density that will be used by `Sigma`.\n",
    "\n",
    "Once again, we set up the dictionary with our needed variables:"
   ]
  },
  {
   "cell_type": "code",
   "execution_count": 74,
   "metadata": {},
   "outputs": [],
   "source": [
    "qe_wfn_co_settings = {\n",
    "    'ecutwfc': qe_wfn_settings['ecutwfc'],\n",
    "    'ngkpt': [2, 2, 2],\n",
    "    'kshift': [.0, .0, .0],\n",
    "    'nbnd': 9,\n",
    "    'rhog_flag': True,\n",
    "}"
   ]
  },
  {
   "cell_type": "markdown",
   "metadata": {},
   "source": [
    "Note that there's a new flag `rhog_flag` which tells `QeBgwFlow` to generate additional density-related files.\n",
    "\n",
    "Now we can prepare the calculation:"
   ]
  },
  {
   "cell_type": "code",
   "execution_count": 85,
   "metadata": {},
   "outputs": [],
   "source": [
    "mpi_settings['nproc'] = 1\n",
    "wfn_co_flow = QeBgwFlow(\n",
    "    dirname = 'Runs_qe/14-Wfn_co',\n",
    "    structure = structure,\n",
    "    **qe_general_settings,\n",
    "    **qe_wfn_input_files,\n",
    "    **qe_wfn_co_settings,\n",
    "    **mpi_settings,\n",
    ")"
   ]
  },
  {
   "cell_type": "markdown",
   "metadata": {},
   "source": [
    "And create and run it:"
   ]
  },
  {
   "cell_type": "code",
   "execution_count": 86,
   "metadata": {},
   "outputs": [
    {
     "name": "stdout",
     "output_type": "stream",
     "text": [
      "   Wfn        : Runs_qe/14-Wfn_co                      -  Status :  \u001b[92mCompleted\u001b[0m\n",
      "   PW2BGW     : Runs_qe/14-Wfn_co                      -  Status :  \u001b[91mUnfinished\u001b[0m\n"
     ]
    }
   ],
   "source": [
    "wfn_co_flow.write()\n",
    "wfn_co_flow.run()\n",
    "wfn_co_flow.report()"
   ]
  },
  {
   "cell_type": "markdown",
   "metadata": {},
   "source": [
    "## WFN_fi ##"
   ]
  },
  {
   "cell_type": "markdown",
   "metadata": {},
   "source": [
    "Next, we'll create `WFN_fi`, the k-shifted `WFN` on a finer grid than `WFN`.  This is used during interpolation in the `Absorption` executable and thus is only needed if you need to solve the BSE equations.  (Symmetry is also turned off for this calculation.)\n",
    "\n",
    "By this point, you're probably familiar with the steps, so we'll present them without comment:"
   ]
  },
  {
   "cell_type": "code",
   "execution_count": 77,
   "metadata": {},
   "outputs": [],
   "source": [
    "qe_wfn_fi_settings = {\n",
    "    'ecutwfc': qe_wfn_settings['ecutwfc'],\n",
    "    'ngkpt': [2, 2, 2],\n",
    "    'kshift': [.5, .5, .5],\n",
    "    'nbnd': 9,\n",
    "    'symkpt': False,\n",
    "}"
   ]
  },
  {
   "cell_type": "code",
   "execution_count": 78,
   "metadata": {},
   "outputs": [],
   "source": [
    "wfn_fi_flow = QeBgwFlow(\n",
    "    dirname = 'Runs_qe/15-Wfn_fi',\n",
    "    structure = structure,\n",
    "    **qe_general_settings,\n",
    "    **qe_wfn_input_files,\n",
    "    **qe_wfn_fi_settings,\n",
    "    **mpi_settings,\n",
    ")"
   ]
  },
  {
   "cell_type": "code",
   "execution_count": 79,
   "metadata": {},
   "outputs": [
    {
     "name": "stdout",
     "output_type": "stream",
     "text": [
      "   Wfn        : Runs_qe/15-Wfn_fi                      -  Status :  \u001b[92mCompleted\u001b[0m\n",
      "   PW2BGW     : Runs_qe/15-Wfn_fi                      -  Status :  \u001b[92mCompleted\u001b[0m\n"
     ]
    }
   ],
   "source": [
    "wfn_fi_flow.write()\n",
    "wfn_fi_flow.run()\n",
    "wfn_fi_flow.report()"
   ]
  },
  {
   "cell_type": "markdown",
   "metadata": {},
   "source": [
    "## WFNq_fi ##"
   ]
  },
  {
   "cell_type": "markdown",
   "metadata": {},
   "source": [
    "FINALLY, we'll create `WFNq_fi`, the k-shifted and q-shifted `WFN` on a finer grid than `WFN`.  Like `WFN_fi`, this is used during interpolation in the `Absorption` executable and thus is only needed if you need to solve the BSE equations.  (And symmetry is turned off, as before.)\n",
    "\n",
    "Let's go through the steps again:"
   ]
  },
  {
   "cell_type": "code",
   "execution_count": 80,
   "metadata": {},
   "outputs": [],
   "source": [
    "qe_wfnq_fi_settings = {\n",
    "    'ecutwfc': qe_wfn_settings['ecutwfc'],\n",
    "    'ngkpt': qe_wfn_fi_settings['ngkpt'],\n",
    "    'kshift': qe_wfn_fi_settings['kshift'],\n",
    "    'nbnd': qe_wfn_fi_settings['nbnd'],\n",
    "    'symkpt': qe_wfn_fi_settings['symkpt'],\n",
    "    'qshift': [.001, .0, .0],\n",
    "}"
   ]
  },
  {
   "cell_type": "code",
   "execution_count": 81,
   "metadata": {},
   "outputs": [],
   "source": [
    "wfnq_fi_flow = QeBgwFlow(\n",
    "    dirname = 'Runs_qe/16-Wfnq_fi',\n",
    "    structure = structure,\n",
    "    **qe_general_settings,\n",
    "    **qe_wfn_input_files,\n",
    "    **qe_wfnq_fi_settings,\n",
    "    **mpi_settings,\n",
    ")                                                                            "
   ]
  },
  {
   "cell_type": "code",
   "execution_count": 82,
   "metadata": {},
   "outputs": [
    {
     "name": "stdout",
     "output_type": "stream",
     "text": [
      "   Wfn        : Runs_qe/16-Wfnq_fi                     -  Status :  \u001b[92mCompleted\u001b[0m\n",
      "   PW2BGW     : Runs_qe/16-Wfnq_fi                     -  Status :  \u001b[92mCompleted\u001b[0m\n"
     ]
    }
   ],
   "source": [
    "wfnq_fi_flow.write()\n",
    "wfnq_fi_flow.run()\n",
    "wfnq_fi_flow.report()"
   ]
  },
  {
   "cell_type": "markdown",
   "metadata": {},
   "source": [
    "# Running GW #"
   ]
  },
  {
   "cell_type": "markdown",
   "metadata": {},
   "source": [
    "Now the moment you've been waiting for, when we actually run a GW calculation!"
   ]
  },
  {
   "cell_type": "markdown",
   "metadata": {},
   "source": [
    "## Epsilon ##"
   ]
  },
  {
   "cell_type": "markdown",
   "metadata": {},
   "source": [
    "Our first step is to run an `Epsilon` calculation, where we'll generate the dielectric matrix (to be precise, the inverse of the dielectric matrix.)\n",
    "\n",
    "Because BerkeleyGW uses a file-based communication system, we'll need to specify the location of the wavefunction files that we previously calculated:"
   ]
  },
  {
   "cell_type": "code",
   "execution_count": null,
   "metadata": {},
   "outputs": [],
   "source": [
    "epsilon_input_files = {\n",
    "    'wfn_fname': 'Runs_qe/12-Wfn/wfn.cplx',\n",
    "    'wfnq_fname': 'Runs_qe/13-Wfnq/wfn.cplx',\n",
    "}"
   ]
  },
  {
   "cell_type": "markdown",
   "metadata": {},
   "source": [
    "As well as the settings for an `Epsilon` calculation:"
   ]
  },
  {
   "cell_type": "code",
   "execution_count": null,
   "metadata": {},
   "outputs": [],
   "source": [
    "epsilon_settings = {\n",
    "    'ngkpt': qe_wfn_settings['ngkpt'],    #    'ngkpt': [2, 2, 2],\n",
    "    'qshift': qe_wfnq_settings['qshift'], #    'qshift': [.001, .0, .0],\n",
    "    'ecuteps': 10.0,\n",
    "}"
   ]
  },
  {
   "cell_type": "markdown",
   "metadata": {},
   "source": [
    "And then we can prepare the Epsilon calculation using an `EpsilonTask` object (reusing our `mpi_settings` dictionary from before):"
   ]
  },
  {
   "cell_type": "code",
   "execution_count": null,
   "metadata": {},
   "outputs": [],
   "source": [
    "epsilon_task = EpsilonTask(\n",
    "    dirname='Runs_qe/21-Epsilon',\n",
    "    structure=structure,\n",
    "    **epsilon_input_files,\n",
    "    **epsilon_settings,\n",
    "    **mpi_settings,\n",
    ")"
   ]
  },
  {
   "cell_type": "markdown",
   "metadata": {},
   "source": [
    "Let's run the calculation:"
   ]
  },
  {
   "cell_type": "code",
   "execution_count": null,
   "metadata": {},
   "outputs": [],
   "source": [
    "epsilon_task.write()\n",
    "epsilon_task.run()\n",
    "epsilon_task.report()"
   ]
  },
  {
   "cell_type": "markdown",
   "metadata": {},
   "source": [
    "## Sigma ##"
   ]
  },
  {
   "cell_type": "markdown",
   "metadata": {},
   "source": [
    "Now that we've calculated the (inverse) dielectric matrix and needed wavefunctions, we have everything we need to calculate the GW self-energy.  This is done with the `Sigma` executable, which takes as inputs the results from our `WFN_co` and `Epsilon` calculations:"
   ]
  },
  {
   "cell_type": "code",
   "execution_count": null,
   "metadata": {},
   "outputs": [],
   "source": [
    "sigma_input_files = {\n",
    "    'wfn_co_fname': 'Runs_qe/14-Wfn_co/wfn.cplx',\n",
    "    'rho_fname': 'Runs_qe/14-Wfn_co/rho.real',\n",
    "    'vxc_dat_fname': 'Runs_qe/14-Wfn_co/vxc.dat',\n",
    "    'eps0mat_fname': 'Runs_qe/21-Epsilon/eps0mat',\n",
    "    'epsmat_fname': 'Runs_qe/21-Epsilon/epsmat',\n",
    "}"
   ]
  },
  {
   "cell_type": "markdown",
   "metadata": {},
   "source": [
    "Specify the settings:"
   ]
  },
  {
   "cell_type": "code",
   "execution_count": null,
   "metadata": {},
   "outputs": [],
   "source": [
    "sigma_settings = {\n",
    "    'ngkpt': qe_wfn_co_settings['ngkpt'],  # ngkpt': [2,2,2],\n",
    "    'ibnd_min': 1,           # Minimum band for GW corrections\n",
    "    'ibnd_max': 8,           # Maximum band for GW corrections\n",
    "}"
   ]
  },
  {
   "cell_type": "markdown",
   "metadata": {},
   "source": [
    "Prepare the calculation:"
   ]
  },
  {
   "cell_type": "code",
   "execution_count": null,
   "metadata": {},
   "outputs": [],
   "source": [
    "sigma_task = SigmaTask(\n",
    "    dirname='Runs_qe/22-Sigma',\n",
    "    structure=structure,\n",
    "    **sigma_input_files,\n",
    "    **sigma_settings,\n",
    "    **mpi_settings,\n",
    ")"
   ]
  },
  {
   "cell_type": "markdown",
   "metadata": {},
   "source": [
    "And finally run it."
   ]
  },
  {
   "cell_type": "code",
   "execution_count": null,
   "metadata": {},
   "outputs": [],
   "source": [
    "# Execution\n",
    "sigma_task.write()\n",
    "sigma_task.run()\n",
    "sigma_task.report()"
   ]
  },
  {
   "cell_type": "markdown",
   "metadata": {},
   "source": [
    "Congratulations!  You have successfully ran a BerkeleyGW calculation from start to finish!"
   ]
  },
  {
   "cell_type": "markdown",
   "metadata": {},
   "source": [
    "# Running BSE#"
   ]
  },
  {
   "cell_type": "markdown",
   "metadata": {},
   "source": [
    "For those of you that want to go further, BerkeleyGW can calculate excitionic properties on the GW+BSE level of theory.  This is done with the `KernelTask` and `AbsorptionTask` classes."
   ]
  },
  {
   "cell_type": "markdown",
   "metadata": {},
   "source": [
    "## Kernel ##\n",
    "\n",
    "`Kernel` takes in as inputs the results of `WFN_co` and `Epsilon`:"
   ]
  },
  {
   "cell_type": "code",
   "execution_count": null,
   "metadata": {},
   "outputs": [],
   "source": [
    "kernel_input_files = {\n",
    "    'wfn_co_fname': 'Runs_qe/14-Wfn_co/wfn.cplx',\n",
    "    'eps0mat_fname': 'Runs_qe/21-Epsilon/eps0mat',\n",
    "    'epsmat_fname': 'Runs_qe/21-Epsilon/epsmat',\n",
    "}"
   ]
  },
  {
   "cell_type": "markdown",
   "metadata": {},
   "source": [
    "We can specify its settings:"
   ]
  },
  {
   "cell_type": "code",
   "execution_count": null,
   "metadata": {},
   "outputs": [],
   "source": [
    "kernel_settings = {\n",
    "    'ngkpt': qe_wfn_co_settings['ngkpt'],\n",
    "    'ecuteps': epsilon_settings['ecuteps'],\n",
    "    'nbnd_val': 4,\n",
    "    'nbnd_cond': 4,\n",
    "    # These extra lines will be added verbatim to the input file.\n",
    "    'extra_lines': [\n",
    "        'use_symmetries_coarse_grid',\n",
    "        'screening_semiconductor',\n",
    "    ],\n",
    "}"
   ]
  },
  {
   "cell_type": "markdown",
   "metadata": {},
   "source": [
    "Prepare the calculation:"
   ]
  },
  {
   "cell_type": "code",
   "execution_count": null,
   "metadata": {},
   "outputs": [],
   "source": [
    "kernel_task = KernelTask(\n",
    "    dirname='Runs_qe/23-Kernel',\n",
    "    structure=structure,\n",
    "    **kernel_input_files,\n",
    "    **kernel_settings,\n",
    "    **mpi_settings,\n",
    ")"
   ]
  },
  {
   "cell_type": "markdown",
   "metadata": {},
   "source": [
    "And finally run it:"
   ]
  },
  {
   "cell_type": "code",
   "execution_count": null,
   "metadata": {},
   "outputs": [],
   "source": [
    "kernel_task.write()\n",
    "kernel_task.run()\n",
    "kernel_task.report()"
   ]
  },
  {
   "cell_type": "markdown",
   "metadata": {},
   "source": [
    "## Absorption ##"
   ]
  },
  {
   "cell_type": "markdown",
   "metadata": {},
   "source": [
    "The last step in our adventure together is the solution of the BSE equation via the `Absorption` executable.  It has as inputs the results of `WFN_co`, `WFNq_fi`, and `WFN_fi`, as well as all previous BerkleyGW executables `Epsilon`, `Sigma`, and `Kernel`:"
   ]
  },
  {
   "cell_type": "code",
   "execution_count": null,
   "metadata": {},
   "outputs": [],
   "source": [
    "absorption_input_files = {\n",
    "    'wfn_co_fname': 'Runs_qe/14-Wfn_co/wfn.cplx',\n",
    "    'wfn_fi_fname': 'Runs_qe/15-Wfn_fi/wfn.cplx',\n",
    "    'wfnq_fi_fname': 'Runs_qe/16-Wfnq_fi/wfn.cplx',\n",
    "    'eps0mat_fname': 'Runs_qe/21-Epsilon/eps0mat',\n",
    "    'epsmat_fname': 'Runs_qe/21-Epsilon/epsmat',\n",
    "    'eqp_fname': 'Runs_qe/22-Sigma/eqp1.dat',\n",
    "    'bsexmat_fname': 'Runs_qe/23-Kernel/bsexmat',\n",
    "    'bsedmat_fname': 'Runs_qe/23-Kernel/bsedmat',\n",
    "}"
   ]
  },
  {
   "cell_type": "markdown",
   "metadata": {},
   "source": [
    "There are... a lot of settings..."
   ]
  },
  {
   "cell_type": "code",
   "execution_count": null,
   "metadata": {},
   "outputs": [],
   "source": [
    "absorption_settings = {\n",
    "    'ngkpt': [2, 2, 2],        # k-points grid\n",
    "    'nbnd_val': 4,             # Number of valence bands\n",
    "    'nbnd_cond': 4,            # Number of conduction bands\n",
    "    'nbnd_val_co': 4,          # Number of valence bands on the coarse grid\n",
    "    'nbnd_cond_co': 4,         # Number of conduction bands on the coarse grid\n",
    "    'nbnd_val_fi': 4,          # Number of valence bands on the fine grid\n",
    "    'nbnd_cond_fi': 4,         # Number of conduction bands on the fine grid\n",
    "    # These extra lines will be added verbatim to the input file.\n",
    "    'extra_lines': [\n",
    "        'use_symmetries_coarse_grid',\n",
    "        'no_symmetries_fine_grid',\n",
    "        'no_symmetries_shifted_grid',\n",
    "        'screening_semiconductor',\n",
    "        'use_velocity',\n",
    "        'gaussian_broadening',\n",
    "        'eqp_co_corrections',\n",
    "    ],\n",
    "    # These extra variables will be added to the input file as '{variable} {value}'.\n",
    "    'extra_variables': {\n",
    "        'energy_resolution': 0.15,\n",
    "    },\n",
    "}"
   ]
  },
  {
   "cell_type": "markdown",
   "metadata": {},
   "source": [
    "But preparing the calculation is as simple as always:"
   ]
  },
  {
   "cell_type": "code",
   "execution_count": null,
   "metadata": {},
   "outputs": [],
   "source": [
    "absorption_task = AbsorptionTask(\n",
    "    dirname='Runs_qe/24-Absorption',\n",
    "    structure=structure,\n",
    "    **absorption_input_files,\n",
    "    **absorption_settings,\n",
    "    **mpi_settings,\n",
    ")"
   ]
  },
  {
   "cell_type": "markdown",
   "metadata": {},
   "source": [
    "And, at last, we can run it."
   ]
  },
  {
   "cell_type": "code",
   "execution_count": null,
   "metadata": {},
   "outputs": [],
   "source": [
    "absorption_task.write()\n",
    "absorption_task.run()\n",
    "absorption_task.report()"
   ]
  },
  {
   "cell_type": "markdown",
   "metadata": {},
   "source": [
    "Congratulations yet again!  You've run a full GW+BSE calculation!m"
   ]
  }
 ],
 "metadata": {
  "kernelspec": {
   "display_name": "Python 3 (ipykernel)",
   "language": "python",
   "name": "python3"
  },
  "language_info": {
   "codemirror_mode": {
    "name": "ipython",
    "version": 3
   },
   "file_extension": ".py",
   "mimetype": "text/x-python",
   "name": "python",
   "nbconvert_exporter": "python",
   "pygments_lexer": "ipython3",
   "version": "3.9.7"
  }
 },
 "nbformat": 4,
 "nbformat_minor": 2
}
