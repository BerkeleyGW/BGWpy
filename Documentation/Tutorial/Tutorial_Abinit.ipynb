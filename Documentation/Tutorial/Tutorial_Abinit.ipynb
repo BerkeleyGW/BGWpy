{
 "cells": [
  {
   "cell_type": "markdown",
   "metadata": {},
   "source": [
    "# Running BerkeleyGW with BGWpy #"
   ]
  },
  {
   "cell_type": "markdown",
   "metadata": {},
   "source": [
    "In this notebook, we assume that you are somewhat familiar with the BerkeleyGW software: what problem it solves, and what is the general workflow to run it. We also assume that you have a basic knowledge of Python and its terminology.\n",
    "\n",
    "\n",
    "Before you begin, make sure that you have the following packages installed:\n",
    "\n",
    "* Jupyter Notebook\n",
    "* Abinit\n",
    "* BerkeleyGW\n",
    "* BGWpy\n",
    "\n",
    "To run BGWpy, you'll also need the `bin` directories of BerkeleyGW and Abinit installations located in your `PATH` environment variable."
   ]
  },
  {
   "cell_type": "markdown",
   "metadata": {},
   "source": [
    "## Checking your configuration ##"
   ]
  },
  {
   "cell_type": "markdown",
   "metadata": {},
   "source": [
    "The following cell is used to generate information that we'll need, should we have to debug this notebook.  You don't need to run it, but it may be useful to look at for educational purposes."
   ]
  },
  {
   "cell_type": "code",
   "execution_count": null,
   "metadata": {},
   "outputs": [],
   "source": [
    "import sys\n",
    "import os\n",
    "import BGWpy.config as defaults\n",
    "\n",
    "print(\"Python kernel:\\n    {}                     \".format(sys.executable))\n",
    "print(\"Python version:\\n    {}                    \".format(sys.version))\n",
    "print(\"Current working directory:\\n    {}         \".format(os.getcwd()))\n",
    "print(\"Configuration file:\\n     {}               \".format(defaults.config_file))\n",
    "print(\"Use HDF5?:\\n    {}                         \".format(defaults.flavors['use_hdf5']))\n",
    "print(\"Use complex version of BerkeleyGW?:\\n    {}\".format(defaults.flavors['flavor_complex']))\n",
    "print(\"DFT Flavor:\\n    {}                        \".format(defaults.flavors['dft_flavor']))\n",
    "print(\"Default MPI settings:\\n    {}              \".format(defaults.default_mpi))\n",
    "print(\"Default runscript settings:\\n    {}        \".format(defaults.default_runscript))\n",
    "print(\"Paths in $PATH:\")\n",
    "for i in os.environ['PATH'].split(\":\"):\n",
    "    print(\"    {}\".format(i))"
   ]
  },
  {
   "cell_type": "markdown",
   "metadata": {},
   "source": [
    "Pay attention to the `use_hdf5` flag. It should reflect whether you compiled BerkeleyGW with HDF5 support or not. If the information above is not consistent with what you have, then you should edit your `~/.BGWpyrc` file accordingly. This is important because the file names that BGW expects from a calculation depends on it. If you don't have HDF5, then you should remove all the '.h5' extensions from file names. It is highly recommended, however, that you build BGW with HDF5 support, as it could become mandatory in the future.\n",
    "\n",
    "If you don't have a `~/.BGWpyrc` yet, you can copy it from the `BGWpy/config` directory, or simply run the script `BGWpy_make_config_file.py`."
   ]
  },
  {
   "cell_type": "markdown",
   "metadata": {},
   "source": [
    "# Load Libraries #"
   ]
  },
  {
   "cell_type": "markdown",
   "metadata": {},
   "source": [
    "First, we load two external packages which BGWpy uses:  `numpy` and `pymatgen`."
   ]
  },
  {
   "cell_type": "code",
   "execution_count": null,
   "metadata": {},
   "outputs": [],
   "source": [
    "import pymatgen\n",
    "import numpy as np"
   ]
  },
  {
   "cell_type": "markdown",
   "metadata": {},
   "source": [
    "Next, we load the `Structure` class from the BGWpy package. But really this is the Structure object from the `pymatgen` package."
   ]
  },
  {
   "cell_type": "code",
   "execution_count": null,
   "metadata": {},
   "outputs": [],
   "source": [
    "from BGWpy import Structure"
   ]
  },
  {
   "cell_type": "markdown",
   "metadata": {},
   "source": [
    "Next, we load the classes which create and run Abinit calculations."
   ]
  },
  {
   "cell_type": "code",
   "execution_count": null,
   "metadata": {},
   "outputs": [],
   "source": [
    "from BGWpy import AbinitScfTask, AbinitBgwFlow"
   ]
  },
  {
   "cell_type": "markdown",
   "metadata": {},
   "source": [
    "Finally, we load the classes with create and run BerkeleyGW calculations."
   ]
  },
  {
   "cell_type": "code",
   "execution_count": null,
   "metadata": {},
   "outputs": [],
   "source": [
    "from BGWpy import EpsilonTask, SigmaTask, KernelTask, AbsorptionTask"
   ]
  },
  {
   "cell_type": "markdown",
   "metadata": {},
   "source": [
    "Make sure that both the BerkeleyGW and Abinit binary folders are in the PATH folder"
   ]
  },
  {
   "cell_type": "markdown",
   "metadata": {},
   "source": [
    "# Create the Structure #"
   ]
  },
  {
   "cell_type": "markdown",
   "metadata": {},
   "source": [
    "For this tutorial, we'll calculate the many-body properties of the GaAs primitive cell.  All files that you will need have been provided for you in the `Data` subdirectory.\n",
    "\n",
    "SHOW PICTURE HERE.  (Even better if can play using `pymatgen`...)"
   ]
  },
  {
   "cell_type": "markdown",
   "metadata": {},
   "source": [
    "Geometries are specified in BGWpy using pymatgen's `Structure` class, which may be imported directly from BGWpy or through pymatgen.\n",
    "\n",
    "There are a number of ways that we can import geometries into BGWpy using the `Structure` class.  For example, we can load them from a pre-existing CIF file:"
   ]
  },
  {
   "cell_type": "code",
   "execution_count": null,
   "metadata": {},
   "outputs": [],
   "source": [
    "structure = Structure.from_file('../Data/Structures/GaAs.cif')\n",
    "print(structure)"
   ]
  },
  {
   "cell_type": "markdown",
   "metadata": {},
   "source": [
    "We can also load them from a previous pymatgen Structure which has been exported to a file in the JSON format:"
   ]
  },
  {
   "cell_type": "code",
   "execution_count": null,
   "metadata": {},
   "outputs": [],
   "source": [
    "Structure.from_file('../Data/Structures/GaAs.json')\n",
    "print(structure)"
   ]
  },
  {
   "cell_type": "markdown",
   "metadata": {},
   "source": [
    "We can even use pymatgen to directly create the structure in a Python script:"
   ]
  },
  {
   "cell_type": "code",
   "execution_count": null,
   "metadata": {
    "scrolled": true
   },
   "outputs": [],
   "source": [
    "acell_angstrom =  5.6535\n",
    "rprim = np.array([[.0,.5,.5],[.5,.0,.5],[.5,.5,.0]]) * acell_angstrom\n",
    "structure = pymatgen.Structure(\n",
    "    lattice = pymatgen.core.lattice.Lattice(rprim),\n",
    "    species= ['Ga', 'As'],\n",
    "    coords = [3*[.0], 3*[.25]],\n",
    "    )\n",
    "print(structure)"
   ]
  },
  {
   "cell_type": "markdown",
   "metadata": {},
   "source": [
    "For more information about pymatgen, please consult its official documentation."
   ]
  },
  {
   "cell_type": "markdown",
   "metadata": {},
   "source": [
    "# Generating the Ground State Density #"
   ]
  },
  {
   "cell_type": "markdown",
   "metadata": {},
   "source": [
    "To begin, we will run a ground state DFT calculation to self-consistency to generate the ground state charge density for the calculation.  This ground state charge density will be fed into all wavefunction calculations in the next step.  We use Abinit in this notebook, however BerkeleyGW and BGWpy supports a number of other DFT packages.\n",
    "\n",
    "First, we will create a object of the `AbinitScfTask` task to prepare the needed variables:"
   ]
  },
  {
   "cell_type": "code",
   "execution_count": null,
   "metadata": {},
   "outputs": [],
   "source": [
    "task = AbinitScfTask(\n",
    "    dirname = 'Runs/11-Density',\n",
    "\n",
    "    structure = Structure.from_file('../Data/Structures/GaAs.json'),\n",
    "    prefix = 'GaAs',    # File names prefix. You don't really need to specify this with abinit.\n",
    "    pseudo_dir = '../Data/Pseudos',\n",
    "    pseudos = ['31-Ga.pspnc', '33-As.pspnc'],\n",
    "\n",
    "    ngkpt = [2,2,2],      # k-points grid\n",
    "    kshift = [.5,.5,.5],  # k-points shift\n",
    "    ecut = 5.0,           # Wavefunctions cutoff energy\n",
    "\n",
    "    # These are the default parameters for the MPI runner.\n",
    "    # You can specify them here, but it's better to store this info in\n",
    "    # the configuration file ~/.BGWpyrc\n",
    "    nproc=1,\n",
    "    nproc_per_node=1,\n",
    "    mpirun='mpirun',\n",
    "    nproc_flag='-n',\n",
    "    nproc_per_node_flag='--npernode',\n",
    ")"
   ]
  },
  {
   "cell_type": "markdown",
   "metadata": {},
   "source": [
    "As you can see, BGWpy has a number of parameters that you will need to set.  However, many of these parameters are consistent from calculation to calculation, so we'll store them in dictionaries that we can reuse for future steps.\n",
    "\n",
    "First, a dictionary to store all variables that will be used across all Abinit calculations:"
   ]
  },
  {
   "cell_type": "code",
   "execution_count": null,
   "metadata": {},
   "outputs": [],
   "source": [
    "structure_and_pseudos = dict(\n",
    "    structure = Structure.from_file('../Data/Structures/GaAs.json'),\n",
    "    pseudo_dir = '../Data/Pseudos',\n",
    "    pseudos = ['31-Ga.pspnc', '33-As.pspnc'],\n",
    ")"
   ]
  },
  {
   "cell_type": "markdown",
   "metadata": {},
   "source": [
    "Next, a dictionary to store the variables which are used only for this particular SCF task:"
   ]
  },
  {
   "cell_type": "code",
   "execution_count": null,
   "metadata": {},
   "outputs": [],
   "source": [
    "scf_settings = dict(\n",
    "    ngkpt = [2,2,2],      # k-points grid\n",
    "    kshift = [.5,.5,.5],  # k-points shift\n",
    "    ecut = 5.0,           # Wavefunctions cutoff energy\n",
    ")"
   ]
  },
  {
   "cell_type": "markdown",
   "metadata": {},
   "source": [
    "And finally, a dictionary to store the settings related to running calculations with MPI."
   ]
  },
  {
   "cell_type": "code",
   "execution_count": null,
   "metadata": {},
   "outputs": [],
   "source": [
    "mpi_settings = dict(  # Then again, you should store those settings in ~/.BGWpyrc\n",
    "    nproc=1,\n",
    "    nproc_per_node=1,\n",
    "    mpirun='mpirun',\n",
    "    nproc_flag='-n',\n",
    "    nproc_per_node_flag='--npernode',\n",
    ")"
   ]
  },
  {
   "cell_type": "markdown",
   "metadata": {},
   "source": [
    "Note that all these dictionaries correspond to arguments for the `AbinitScfTask`, stored as key/value pairs.  This allows us to use dictionary unpacking to considerably tidy up our code:"
   ]
  },
  {
   "cell_type": "code",
   "execution_count": null,
   "metadata": {},
   "outputs": [],
   "source": [
    "scf_task = AbinitScfTask(\n",
    "    dirname='Runs/11-Density',\n",
    "    **scf_settings,\n",
    "    **structure_and_pseudos,\n",
    "    **mpi_settings,\n",
    ")"
   ]
  },
  {
   "cell_type": "markdown",
   "metadata": {},
   "source": [
    "Now that we've created the `AbinitScfTask` task, we can use the `write` method to write the needed input files to disk:"
   ]
  },
  {
   "cell_type": "code",
   "execution_count": null,
   "metadata": {},
   "outputs": [],
   "source": [
    "scf_task.write()"
   ]
  },
  {
   "cell_type": "markdown",
   "metadata": {},
   "source": [
    "If you receive an error message stating that an executable could not be found, you likely do not have the needed BerkeleyGW and Abinit binary folders in your `PATH` environment variable.\n",
    "\n",
    "Let's take a look at the folder that was created by this task using Jupyter's built-in `!ls` magic command:"
   ]
  },
  {
   "cell_type": "code",
   "execution_count": null,
   "metadata": {},
   "outputs": [],
   "source": [
    "!ls 'Runs/11-Density'"
   ]
  },
  {
   "cell_type": "markdown",
   "metadata": {},
   "source": [
    "In our new folder, there are several new directories:\n",
    "\n",
    "* `GaAs.files`, the list of files used by Abinit.\n",
    "* `GaAs.in`, the Abinit input variables.\n",
    "* `run.sh`, the execution script.\n",
    "\n",
    "and folders used by abinit for the input data files, outputs, and temporary files:\n",
    "* `input_data`\n",
    "* `out_data`\n",
    "* `tmp_data`\n",
    "\n",
    "Now that we've created the needed input files, let's run the `run.sh` script using the `run` method.  Note that this step will take a few seconds, as it will run Abinit in the background."
   ]
  },
  {
   "cell_type": "code",
   "execution_count": null,
   "metadata": {},
   "outputs": [],
   "source": [
    "scf_task.run()"
   ]
  },
  {
   "cell_type": "markdown",
   "metadata": {},
   "source": [
    "Finally, we can check the status of the calculation using the `report` method.  You should see a message telling you that it's been completed."
   ]
  },
  {
   "cell_type": "code",
   "execution_count": null,
   "metadata": {},
   "outputs": [],
   "source": [
    "scf_task.report()"
   ]
  },
  {
   "cell_type": "markdown",
   "metadata": {},
   "source": [
    "It is possible to access the data files produced by this task with"
   ]
  },
  {
   "cell_type": "code",
   "execution_count": null,
   "metadata": {},
   "outputs": [],
   "source": [
    "charge_density_fname = scf_task.get_odat('DEN')\n",
    "vxc_fname = scf_task.get_odat('VXC')\n",
    "print(\"Charge density file name: {}\".format(charge_density_fname))\n",
    "print(\"Exchange-correlation potential file name: {}\".format(vxc_fname))"
   ]
  },
  {
   "cell_type": "markdown",
   "metadata": {},
   "source": [
    "This won't be necessary, however, when we get to use the `AbinitBgwFlow`."
   ]
  },
  {
   "cell_type": "markdown",
   "metadata": {},
   "source": [
    "# Generating the Wavefunctions #"
   ]
  },
  {
   "cell_type": "markdown",
   "metadata": {},
   "source": [
    "Now that we've generated the ground state density, we'll used this to generate the wavefunctions that we'll feed into BerkeleyGW.  This may be done with the ` AbinitBgwFlow` class.  As mentioned in the introduction, we'll need up to 6 different types of wavefunction files."
   ]
  },
  {
   "cell_type": "markdown",
   "metadata": {},
   "source": [
    "## WFN ##"
   ]
  },
  {
   "cell_type": "markdown",
   "metadata": {},
   "source": [
    "`WFN` is the \"standard\" k-shifted wavefunction file which is read by the `Epsilon` calculation, and thus is needed for all BerkeleyGW calculations.\n",
    "\n",
    "It (and all other wavefunction files) are generated using the `AbinitBgwFlow` class.  The only difference between these wavefunction types are the parameter values used:"
   ]
  },
  {
   "cell_type": "code",
   "execution_count": null,
   "metadata": {},
   "outputs": [],
   "source": [
    "task = AbinitBgwFlow(\n",
    "    dirname = 'Runs/12-Wfn',\n",
    "\n",
    "    structure = Structure.from_file('../Data/Structures/GaAs.json'),\n",
    "    prefix = 'GaAs',\n",
    "    pseudo_dir = '../Data/Pseudos',\n",
    "    pseudos = ['31-Ga.pspnc', '33-As.pspnc'],\n",
    "\n",
    "    ngkpt = [2,2,2],      # k-points grid\n",
    "    kshift = [.5,.5,.5],  # k-points shift\n",
    "    ecut = 5.0,           # Wavefunctions cutoff energy\n",
    "    nband = 9,            # Number of bands\n",
    "\n",
    "    input_variables = {'autoparal' : 1},  # Any extra input variables we want to specify\n",
    "\n",
    "    charge_density_fname = '11-Density/out_data/odat_DEN',\n",
    "    vxc_fname = '11-Density/out_data/odat_VXC',\n",
    "\n",
    "    # These are the default parameters for the MPI runner.\n",
    "    # Please adapt them to your needs.\n",
    "    nproc = 1,\n",
    "    nproc_per_node = 1,\n",
    "    mpirun = 'mpirun',\n",
    "    nproc_flag = '-n',\n",
    "    nproc_per_node_flag = '--npernode',\n",
    "    )"
   ]
  },
  {
   "cell_type": "markdown",
   "metadata": {},
   "source": [
    "As before, we will break up these arguments into sets of dictionaries: the settings common to all wavefunction calculations"
   ]
  },
  {
   "cell_type": "code",
   "execution_count": null,
   "metadata": {},
   "outputs": [],
   "source": [
    "wfn_common_settings = dict(\n",
    "    ecut = 5.0,           # Wavefunctions cutoff energy\n",
    "    input_variables = {'autoparal' : 1},  # Any extra input variables we want to specify\n",
    "    charge_density_fname = charge_density_fname,\n",
    "    vxc_fname = vxc_fname,\n",
    ")"
   ]
  },
  {
   "cell_type": "markdown",
   "metadata": {},
   "source": [
    "and the arguments specific to the current wavefunction calculation"
   ]
  },
  {
   "cell_type": "code",
   "execution_count": null,
   "metadata": {},
   "outputs": [],
   "source": [
    "wfn_settings = dict(\n",
    "    ngkpt = [2,2,2],      # k-points grid\n",
    "    kshift = [.5,.5,.5],  # k-points shift\n",
    "    nband = 9,            # Number of bands\n",
    "    **wfn_common_settings)"
   ]
  },
  {
   "cell_type": "markdown",
   "metadata": {},
   "source": [
    "Reusing dictionaries of settings previously defined,\n",
    "We can now create the instance of the `AbinitBgwFlow` class:"
   ]
  },
  {
   "cell_type": "code",
   "execution_count": null,
   "metadata": {},
   "outputs": [],
   "source": [
    "wfn_flow = AbinitBgwFlow(\n",
    "    dirname='Runs/12-Wfn',\n",
    "    **wfn_settings,\n",
    "    **structure_and_pseudos,\n",
    "    **mpi_settings)"
   ]
  },
  {
   "cell_type": "markdown",
   "metadata": {},
   "source": [
    "As before, we'll write the input files to disc then run the calculation:"
   ]
  },
  {
   "cell_type": "code",
   "execution_count": null,
   "metadata": {},
   "outputs": [],
   "source": [
    "wfn_flow.write()\n",
    "wfn_flow.run()\n",
    "wfn_flow.report()"
   ]
  },
  {
   "cell_type": "markdown",
   "metadata": {},
   "source": [
    "The output specifies that we've actually run two calculations here:  a `WFN` calculation where we calculate wavefunctions using Abinit, and `Abi2BGW` where we convert the resulting Abinit-specific output files into a format readable by BerkeleyGW.  Unlike in the density case where we ran a single task, here we're running two tasks (`WFN` and `Abi2BGW`) in a workflow (hence the name `AbiBgwFlow`)."
   ]
  },
  {
   "cell_type": "markdown",
   "metadata": {},
   "source": [
    "## WFNq ##"
   ]
  },
  {
   "cell_type": "markdown",
   "metadata": {},
   "source": [
    "Next, we'll create `WFNq`, which is the \"standard\" k-shifted and q-shifted wavefunction file which is read by the `Epsilon` calculation, and thus is needed for all BerkeleyGW calculations.\n",
    "\n",
    "The only dictionary we need to create is are the settings specific to the `WFNq` wavefunction:"
   ]
  },
  {
   "cell_type": "code",
   "execution_count": null,
   "metadata": {},
   "outputs": [],
   "source": [
    "wfnq_settings = dict(\n",
    "    ngkpt = [2,2,2],      # k-points grid\n",
    "    kshift = [.5,.5,.5],  # k-points shift\n",
    "    qshift = [.001,.0,.0],# k-points q-shift\n",
    "    **wfn_common_settings)"
   ]
  },
  {
   "cell_type": "markdown",
   "metadata": {},
   "source": [
    "And then we can prepare the calculation:"
   ]
  },
  {
   "cell_type": "code",
   "execution_count": null,
   "metadata": {},
   "outputs": [],
   "source": [
    "wfnq_flow = AbinitBgwFlow(\n",
    "    dirname='Runs/13-Wfnq',\n",
    "    **wfnq_settings,\n",
    "    **structure_and_pseudos,\n",
    "    **mpi_settings)"
   ]
  },
  {
   "cell_type": "markdown",
   "metadata": {},
   "source": [
    "Create it, and run it:"
   ]
  },
  {
   "cell_type": "code",
   "execution_count": null,
   "metadata": {},
   "outputs": [],
   "source": [
    "wfnq_flow.write()\n",
    "wfnq_flow.run()\n",
    "wfnq_flow.report()"
   ]
  },
  {
   "cell_type": "markdown",
   "metadata": {},
   "source": [
    "## Wfn_co ##"
   ]
  },
  {
   "cell_type": "markdown",
   "metadata": {},
   "source": [
    "Next, we'll create `WFN_co`, which is the wavefunction on a coarser (and unshifted) grid than `WFN`.  This is used by `Sigma`, `Kernel`, and `Absorption`, and thus will be needed by most BerkeleyGW calculations.  we will also use this calculation to generate the ground state density and exchange-correlation energy density that will be used by `Sigma`.\n",
    "\n",
    "Once again, we set up the dictionary with our needed variables:"
   ]
  },
  {
   "cell_type": "code",
   "execution_count": null,
   "metadata": {},
   "outputs": [],
   "source": [
    "wfn_co_settings = dict(\n",
    "    ngkpt = [2,2,2],      # k-points grid\n",
    "    kshift = [.0,.0,.0],  # k-points shift\n",
    "    nband = 9,            # Number of bands\n",
    "\n",
    "    rhog_flag = True,     # Also convert the charge density for BGW.\n",
    "    vxcg_flag = True,     # Also convert vxc for BGW.\n",
    "    **wfn_common_settings)"
   ]
  },
  {
   "cell_type": "markdown",
   "metadata": {},
   "source": [
    "Note that there's a new flag `rhog_flag` which tells `AbinitBgwFlow` to generate additional density-related files,\n",
    "while the vxcg_flag tells the `Abi2BGW` task to read and convert the `VXC` file."
   ]
  },
  {
   "cell_type": "markdown",
   "metadata": {},
   "source": [
    "Now we can prepare the calculation:"
   ]
  },
  {
   "cell_type": "code",
   "execution_count": null,
   "metadata": {},
   "outputs": [],
   "source": [
    "wfn_co_flow = AbinitBgwFlow(\n",
    "    dirname = 'Runs/14-Wfn_co',\n",
    "    **wfn_co_settings,\n",
    "    **structure_and_pseudos,\n",
    "    **mpi_settings)"
   ]
  },
  {
   "cell_type": "markdown",
   "metadata": {},
   "source": [
    "And create and run it:"
   ]
  },
  {
   "cell_type": "code",
   "execution_count": null,
   "metadata": {
    "scrolled": true
   },
   "outputs": [],
   "source": [
    "wfn_co_flow.write()\n",
    "wfn_co_flow.run()\n",
    "wfn_co_flow.report()"
   ]
  },
  {
   "cell_type": "markdown",
   "metadata": {},
   "source": [
    "## WFN_fi ##"
   ]
  },
  {
   "cell_type": "markdown",
   "metadata": {},
   "source": [
    "Next, we'll create `WFN_fi`, the k-shifted `WFN` on a finer grid than `WFN`.  This is used during interpolation in the `Absorption` executable and thus is only needed if you need to solve the BSE equations.  (Symmetry is also turned off for this calculation.)"
   ]
  },
  {
   "cell_type": "code",
   "execution_count": null,
   "metadata": {},
   "outputs": [],
   "source": [
    "wfn_fi_settings = dict(\n",
    "    nband = 9,            # Number of bands\n",
    "    ngkpt = [2,2,2],      # k-points grid\n",
    "    kshift = [.5,.5,.5],  # k-points shift\n",
    "    symkpt = False,       # Do not reduce the k-point grid with symmetries.\n",
    "    **wfn_common_settings)"
   ]
  },
  {
   "cell_type": "code",
   "execution_count": null,
   "metadata": {},
   "outputs": [],
   "source": [
    "wfn_fi_flow = AbinitBgwFlow(\n",
    "    dirname = 'Runs/15-Wfn_fi',\n",
    "    **wfn_fi_settings,\n",
    "    **structure_and_pseudos,\n",
    "    **mpi_settings)"
   ]
  },
  {
   "cell_type": "code",
   "execution_count": null,
   "metadata": {
    "scrolled": true
   },
   "outputs": [],
   "source": [
    "wfn_fi_flow.write()\n",
    "wfn_fi_flow.run()\n",
    "wfn_fi_flow.report()"
   ]
  },
  {
   "cell_type": "markdown",
   "metadata": {},
   "source": [
    "## WFNq_fi ##"
   ]
  },
  {
   "cell_type": "markdown",
   "metadata": {},
   "source": [
    "FINALLY, we'll create `WFNq_fi`, the k-shifted and q-shifted `WFN` on a finer grid than `WFN`.  Like `WFN_fi`, this is used during interpolation in the `Absorption` executable and thus is only needed if you need to solve the BSE equations.  (And symmetry is turned off, as before.)\n",
    "\n",
    "Let's go through the steps again:"
   ]
  },
  {
   "cell_type": "code",
   "execution_count": null,
   "metadata": {},
   "outputs": [],
   "source": [
    "wfnq_fi_settings = dict(\n",
    "    nband = 9,            # Number of bands\n",
    "    ngkpt = [2,2,2],      # k-points grid\n",
    "    kshift = [.5,.5,.5],  # k-points shift\n",
    "    qshift = [.001,.0,.0],# k-points q-shift\n",
    "    symkpt = False,       # Do not reduce the k-point grid with symmetries.\n",
    "    **wfn_common_settings)"
   ]
  },
  {
   "cell_type": "code",
   "execution_count": null,
   "metadata": {},
   "outputs": [],
   "source": [
    "wfnq_fi_flow = AbinitBgwFlow(\n",
    "    dirname = 'Runs/16-Wfnq_fi',\n",
    "    **wfnq_fi_settings,\n",
    "    **structure_and_pseudos,\n",
    "    **mpi_settings)"
   ]
  },
  {
   "cell_type": "code",
   "execution_count": null,
   "metadata": {},
   "outputs": [],
   "source": [
    "wfnq_fi_flow.write()\n",
    "wfnq_fi_flow.run()\n",
    "wfnq_fi_flow.report()"
   ]
  },
  {
   "cell_type": "markdown",
   "metadata": {},
   "source": [
    "# Running GW #"
   ]
  },
  {
   "cell_type": "markdown",
   "metadata": {},
   "source": [
    "Now the moment you've been waiting for, when we actually run a GW calculation!"
   ]
  },
  {
   "cell_type": "markdown",
   "metadata": {},
   "source": [
    "## Epsilon ##"
   ]
  },
  {
   "cell_type": "markdown",
   "metadata": {},
   "source": [
    "Our first step is to run an `Epsilon` calculation, where we'll generate the dielectric matrix (to be precise, the inverse of the dielectric matrix.)\n",
    "\n",
    "Because BerkeleyGW uses a file-based communication system, we'll need to specify the location of the wavefunction files that we previously calculated:"
   ]
  },
  {
   "cell_type": "code",
   "execution_count": null,
   "metadata": {},
   "outputs": [],
   "source": [
    "epsilon_input_files = dict(\n",
    "    wfn_fname='Runs/12-Wfn/wfn.cplx',\n",
    "    wfnq_fname='Runs/13-Wfnq/wfn.cplx',\n",
    ")"
   ]
  },
  {
   "cell_type": "markdown",
   "metadata": {},
   "source": [
    "Actually, we can set the file name above using a property of the flow"
   ]
  },
  {
   "cell_type": "code",
   "execution_count": null,
   "metadata": {},
   "outputs": [],
   "source": [
    "epsilon_input_files = dict(\n",
    "    wfn_fname=wfn_flow.wfn_fname,\n",
    "    wfnq_fname=wfnq_flow.wfn_fname,\n",
    ")"
   ]
  },
  {
   "cell_type": "markdown",
   "metadata": {},
   "source": [
    "As well as the settings for an `Epsilon` calculation:"
   ]
  },
  {
   "cell_type": "code",
   "execution_count": null,
   "metadata": {},
   "outputs": [],
   "source": [
    "epsilon_settings = dict(\n",
    "    ngkpt = wfn_settings['ngkpt'],    #    'ngkpt': [2, 2, 2],\n",
    "    qshift = wfnq_settings['qshift'], #    'qshift': [.001, .0, .0],\n",
    "    ecuteps = 10.0,\n",
    ")"
   ]
  },
  {
   "cell_type": "markdown",
   "metadata": {},
   "source": [
    "And then we can prepare the Epsilon calculation using an `EpsilonTask` object (reusing our `mpi_settings` dictionary from before):"
   ]
  },
  {
   "cell_type": "code",
   "execution_count": null,
   "metadata": {},
   "outputs": [],
   "source": [
    "epsilon_task = EpsilonTask(\n",
    "    dirname='Runs/21-Epsilon',\n",
    "    structure=structure,\n",
    "    **epsilon_input_files,\n",
    "    **epsilon_settings,\n",
    "    **mpi_settings)"
   ]
  },
  {
   "cell_type": "markdown",
   "metadata": {},
   "source": [
    "Let's run the calculation:"
   ]
  },
  {
   "cell_type": "code",
   "execution_count": null,
   "metadata": {},
   "outputs": [],
   "source": [
    "epsilon_task.write()\n",
    "epsilon_task.run()\n",
    "epsilon_task.report()"
   ]
  },
  {
   "cell_type": "markdown",
   "metadata": {},
   "source": [
    "## Sigma ##"
   ]
  },
  {
   "cell_type": "markdown",
   "metadata": {},
   "source": [
    "Now that we've calculated the (inverse) dielectric matrix and needed wavefunctions, we have everything we need to calculate the GW self-energy.  This is done with the `Sigma` executable, which takes as inputs the results from our `WFN_co` and `Epsilon` calculations:"
   ]
  },
  {
   "cell_type": "code",
   "execution_count": null,
   "metadata": {},
   "outputs": [],
   "source": [
    "sigma_input_files = dict(\n",
    "    wfn_co_fname='Runs/14-Wfn_co/wfn.cplx',\n",
    "    rho_fname='Runs/14-Wfn_co/rho.cplx',\n",
    "    vxc_fname='Runs/14-Wfn_co/vxc.cplx',\n",
    "    \n",
    "    eps0mat_fname='Runs/21-Epsilon/eps0mat.h5',\n",
    "    epsmat_fname='Runs/21-Epsilon/epsmat.h5',\n",
    ")"
   ]
  },
  {
   "cell_type": "markdown",
   "metadata": {},
   "source": [
    "Then again, making use of the object properties, we can get the above file names with"
   ]
  },
  {
   "cell_type": "code",
   "execution_count": null,
   "metadata": {},
   "outputs": [],
   "source": [
    "sigma_input_files = dict(\n",
    "    wfn_co_fname=wfn_co_flow.wfn_fname,\n",
    "    rho_fname=wfn_co_flow.rho_fname,\n",
    "    vxc_fname=wfn_co_flow.vxc_fname,\n",
    "    \n",
    "    eps0mat_fname=epsilon_task.eps0mat_fname,\n",
    "    epsmat_fname=epsilon_task.epsmat_fname,\n",
    ")"
   ]
  },
  {
   "cell_type": "markdown",
   "metadata": {},
   "source": [
    "Specify the settings:"
   ]
  },
  {
   "cell_type": "code",
   "execution_count": null,
   "metadata": {},
   "outputs": [],
   "source": [
    "sigma_settings = dict(\n",
    "    ngkpt = wfn_co_settings['ngkpt'],  # ngkpt': [2,2,2],\n",
    "    ibnd_min = 1,           # Minimum band for GW corrections\n",
    "    ibnd_max = 8,           # Maximum band for GW corrections\n",
    "    extra_lines = ['dont_use_vxcdat'],\n",
    "    #'extra_lines' : ['dont_use_vxcdat', 'dont_use_hdf5'],\n",
    ")"
   ]
  },
  {
   "cell_type": "markdown",
   "metadata": {},
   "source": [
    "Prepare the calculation:"
   ]
  },
  {
   "cell_type": "code",
   "execution_count": null,
   "metadata": {},
   "outputs": [],
   "source": [
    "sigma_task = SigmaTask(\n",
    "    dirname='Runs/22-Sigma',\n",
    "    structure=structure,\n",
    "    **sigma_input_files,\n",
    "    **sigma_settings,\n",
    "    **mpi_settings)"
   ]
  },
  {
   "cell_type": "markdown",
   "metadata": {},
   "source": [
    "And finally run it."
   ]
  },
  {
   "cell_type": "code",
   "execution_count": null,
   "metadata": {},
   "outputs": [],
   "source": [
    "# Execution\n",
    "sigma_task.write()\n",
    "sigma_task.run()\n",
    "sigma_task.report()"
   ]
  },
  {
   "cell_type": "markdown",
   "metadata": {},
   "source": [
    "If you see an `Unfinised` status, something went wrong, and you should inspect the content of the run directory, in particular the main output file `Runs/22-Sigma/sigma.out` .\n",
    "Make sure you are using the latest version of BerkeleyGW.\n",
    "\n",
    "If you see a `Completed` status, then congratulations! You have successfully ran a BerkeleyGW calculation from start to finish."
   ]
  },
  {
   "cell_type": "markdown",
   "metadata": {},
   "source": [
    "# Running BSE #"
   ]
  },
  {
   "cell_type": "markdown",
   "metadata": {},
   "source": [
    "For those of you that want to go further, BerkeleyGW can calculate excitionic properties on the GW+BSE level of theory.  This is done with the `KernelTask` and `AbsorptionTask` classes."
   ]
  },
  {
   "cell_type": "markdown",
   "metadata": {},
   "source": [
    "## Kernel ##\n",
    "\n",
    "`Kernel` takes in as inputs the results of `WFN_co` and `Epsilon`:"
   ]
  },
  {
   "cell_type": "code",
   "execution_count": null,
   "metadata": {},
   "outputs": [],
   "source": [
    "kernel_input_files = dict(\n",
    "    wfn_co_fname=wfn_co_flow.wfn_fname,\n",
    "    eps0mat_fname=epsilon_task.eps0mat_fname,\n",
    "    epsmat_fname=epsilon_task.epsmat_fname,\n",
    ")"
   ]
  },
  {
   "cell_type": "markdown",
   "metadata": {},
   "source": [
    "We can specify its settings:"
   ]
  },
  {
   "cell_type": "code",
   "execution_count": null,
   "metadata": {},
   "outputs": [],
   "source": [
    "kernel_settings = dict(\n",
    "    ngkpt = wfn_co_settings['ngkpt'],\n",
    "    ecuteps = epsilon_settings['ecuteps'],\n",
    "    nbnd_val = 4,\n",
    "    nbnd_cond = 4,\n",
    "    # These extra lines will be added verbatim to the input file.\n",
    "    extra_lines = ['use_symmetries_coarse_grid', 'screening_semiconductor'],\n",
    ")"
   ]
  },
  {
   "cell_type": "markdown",
   "metadata": {},
   "source": [
    "Prepare the calculation:"
   ]
  },
  {
   "cell_type": "code",
   "execution_count": null,
   "metadata": {},
   "outputs": [],
   "source": [
    "kernel_task = KernelTask(\n",
    "    dirname='Runs/23-Kernel',\n",
    "    structure=structure,\n",
    "    **kernel_input_files,\n",
    "    **kernel_settings,\n",
    "    **mpi_settings)"
   ]
  },
  {
   "cell_type": "markdown",
   "metadata": {},
   "source": [
    "And finally run it:"
   ]
  },
  {
   "cell_type": "code",
   "execution_count": null,
   "metadata": {},
   "outputs": [],
   "source": [
    "kernel_task.write()\n",
    "kernel_task.run()\n",
    "kernel_task.report()"
   ]
  },
  {
   "cell_type": "markdown",
   "metadata": {},
   "source": [
    "## Absorption ##"
   ]
  },
  {
   "cell_type": "markdown",
   "metadata": {},
   "source": [
    "Finally, we solve the BSE equation via the `Absorption` executable.  It has as inputs the results of `WFN_co`, `WFNq_fi`, and `WFN_fi`, as well as all previous BerkleyGW executables `Epsilon`, `Sigma`, and `Kernel`:"
   ]
  },
  {
   "cell_type": "code",
   "execution_count": null,
   "metadata": {},
   "outputs": [],
   "source": [
    "absorption_input_files = dict(\n",
    "    wfn_co_fname = 'Runs/14-Wfn_co/wfn.cplx',\n",
    "    wfn_fi_fname = 'Runs/15-Wfn_fi/wfn.cplx',\n",
    "    wfnq_fi_fname = 'Runs/16-Wfnq_fi/wfn.cplx',\n",
    "    \n",
    "    eps0mat_fname = 'Runs/21-Epsilon/eps0mat.h5',\n",
    "    epsmat_fname = 'Runs/21-Epsilon/epsmat.h5',\n",
    "    eqp_fname = 'Runs/22-Sigma/eqp1.dat',\n",
    "    bsemat_fname = 'Runs/23-Kernel/bsemat.h5'\n",
    "\n",
    "    # If you don't use hdf5, the BSE matrix is written in two separate files.\n",
    "    #bsexmat_fname = 'Runs/23-Kernel/bsexmat',\n",
    "    #bsedmat_fname = 'Runs/23-Kernel/bsedmat',\n",
    ")"
   ]
  },
  {
   "cell_type": "markdown",
   "metadata": {},
   "source": [
    "Or, using the appropriate variables,"
   ]
  },
  {
   "cell_type": "code",
   "execution_count": null,
   "metadata": {},
   "outputs": [],
   "source": [
    "absorption_input_files = dict(\n",
    "    wfn_co_fname = wfn_co_flow.wfn_fname,\n",
    "    wfn_fi_fname = wfn_fi_flow.wfn_fname,\n",
    "    wfnq_fi_fname = wfnq_fi_flow.wfn_fname,\n",
    "    \n",
    "    eps0mat_fname = epsilon_task.eps0mat_fname,\n",
    "    epsmat_fname = epsilon_task.epsmat_fname,\n",
    "    eqp_fname = sigma_task.eqp1_fname,\n",
    "    bsemat_fname = kernel_task.bsemat_fname,\n",
    "\n",
    "    # If you don't use hdf5, the BSE matrix is written in two separate files.\n",
    "    #bsexmat_fname = kernel_task.bsexmat_fname,\n",
    "    #bsedmat_fname = kernel_task.bsedmat_fname,\n",
    ")"
   ]
  },
  {
   "cell_type": "markdown",
   "metadata": {},
   "source": [
    "Next, we set the calculation settings. There are...a lot of those."
   ]
  },
  {
   "cell_type": "code",
   "execution_count": null,
   "metadata": {},
   "outputs": [],
   "source": [
    "absorption_settings = dict(\n",
    "    ngkpt = [2, 2, 2],        # k-points grid\n",
    "    nbnd_val = 4,             # Number of valence bands\n",
    "    nbnd_cond = 4,            # Number of conduction bands\n",
    "    nbnd_val_co = 4,          # Number of valence bands on the coarse grid\n",
    "    nbnd_cond_co = 4,         # Number of conduction bands on the coarse grid\n",
    "    nbnd_val_fi = 4,          # Number of valence bands on the fine grid\n",
    "    nbnd_cond_fi = 4,         # Number of conduction bands on the fine grid\n",
    "\n",
    "    # These extra lines will be added verbatim to the input file.\n",
    "    extra_lines = [\n",
    "        'use_symmetries_coarse_grid',\n",
    "        'no_symmetries_fine_grid',\n",
    "        'no_symmetries_shifted_grid',\n",
    "        'screening_semiconductor',\n",
    "        'use_velocity',\n",
    "        'gaussian_broadening',\n",
    "        'eqp_co_corrections',\n",
    "    ],\n",
    "    # These extra variables will be added to the input file as '{variable} {value}'.\n",
    "    extra_variables = {\n",
    "        'energy_resolution': 0.15,\n",
    "    },\n",
    ")"
   ]
  },
  {
   "cell_type": "markdown",
   "metadata": {},
   "source": [
    "But preparing the calculation is as simple as always:"
   ]
  },
  {
   "cell_type": "code",
   "execution_count": null,
   "metadata": {},
   "outputs": [],
   "source": [
    "absorption_task = AbsorptionTask(\n",
    "    dirname='Runs/24-Absorption',\n",
    "    structure=structure,\n",
    "    **absorption_input_files,\n",
    "    **absorption_settings,\n",
    "    **mpi_settings)"
   ]
  },
  {
   "cell_type": "markdown",
   "metadata": {},
   "source": [
    "And, at last, we can run it."
   ]
  },
  {
   "cell_type": "code",
   "execution_count": null,
   "metadata": {},
   "outputs": [],
   "source": [
    "absorption_task.write()\n",
    "absorption_task.run()\n",
    "absorption_task.report()"
   ]
  },
  {
   "cell_type": "markdown",
   "metadata": {},
   "source": [
    "Congratulations yet again!  You've run a full GW+BSE calculation!"
   ]
  },
  {
   "cell_type": "markdown",
   "metadata": {},
   "source": [
    "# Using workflows #"
   ]
  },
  {
   "cell_type": "markdown",
   "metadata": {},
   "source": [
    "Can we do all of these steps at once? Yes we can!"
   ]
  },
  {
   "cell_type": "code",
   "execution_count": null,
   "metadata": {},
   "outputs": [],
   "source": [
    "from BGWpy import GWFlow, BSEFlow"
   ]
  },
  {
   "cell_type": "code",
   "execution_count": null,
   "metadata": {},
   "outputs": [],
   "source": [
    "flow = GWFlow(\n",
    "    dirname='Runs/32-GW',\n",
    "    dft_flavor='abinit',\n",
    "\n",
    "    structure = Structure.from_file('../Data/Structures/GaAs.json'),\n",
    "    prefix = 'GaAs',\n",
    "    pseudo_dir = '../Data/Pseudos',\n",
    "    pseudos = ['31-Ga.pspnc', '33-As.pspnc'],\n",
    "\n",
    "    ecut = 10.0,\n",
    "    nbnd = 9,\n",
    "\n",
    "    ngkpt = [2,2,2],\n",
    "    kshift = [.5,.5,.5],\n",
    "    qshift = [.001,.0,.0],\n",
    "    ibnd_min = 1,\n",
    "    ibnd_max = 8,\n",
    "    ecuteps = 7.5,\n",
    "\n",
    "    # Extra lines and extra variables\n",
    "    epsilon_extra_lines = [],\n",
    "    epsilon_extra_variables = {},\n",
    "    sigma_extra_lines = ['screening_semiconductor'],\n",
    "    sigma_extra_variables = {},\n",
    "\n",
    "    **mpi_settings)"
   ]
  },
  {
   "cell_type": "markdown",
   "metadata": {},
   "source": [
    "Let's execute the whole thing."
   ]
  },
  {
   "cell_type": "code",
   "execution_count": null,
   "metadata": {},
   "outputs": [],
   "source": [
    "flow.write()\n",
    "flow.run()\n",
    "flow.report()"
   ]
  },
  {
   "cell_type": "markdown",
   "metadata": {},
   "source": [
    "Likewise, for the BSE"
   ]
  },
  {
   "cell_type": "code",
   "execution_count": null,
   "metadata": {},
   "outputs": [],
   "source": [
    "flow = BSEFlow(\n",
    "    dirname='Runs/33-BSE',\n",
    "    dft_flavor='abinit',\n",
    "\n",
    "    structure = Structure.from_file('../Data/Structures/GaAs.json'),\n",
    "    prefix = 'GaAs',\n",
    "    pseudo_dir = '../Data/Pseudos',\n",
    "    pseudos = ['31-Ga.pspnc', '33-As.pspnc'],\n",
    "\n",
    "    ecut = 5.0,\n",
    "    nbnd = 12,\n",
    "    nbnd_fine = 9,\n",
    "\n",
    "    ngkpt = [2,2,2],\n",
    "    kshift = [.5,.5,.5],\n",
    "    qshift = [.001,.0,.0],\n",
    "\n",
    "    # Fine grids\n",
    "    ngkpt_fine = [4,4,4],\n",
    "    kshift_fine = [.0,.0,.0],\n",
    "\n",
    "    ibnd_min = 1,\n",
    "    ibnd_max = 8,\n",
    "    ecuteps = 10.0,\n",
    "    sigma_extra_lines = ['screening_semiconductor'],\n",
    "\n",
    "    # Kernel variables\n",
    "    nbnd_val = 4,\n",
    "    nbnd_cond = 4,\n",
    "\n",
    "    kernel_extra_lines = [\n",
    "        'use_symmetries_coarse_grid',\n",
    "        'screening_semiconductor',\n",
    "        ],\n",
    "\n",
    "    # Absorption variables\n",
    "    nbnd_val_co=4,\n",
    "    nbnd_cond_co=4,\n",
    "    nbnd_val_fi=4,\n",
    "    nbnd_cond_fi=4,\n",
    "    \n",
    "    absorption_extra_lines = [\n",
    "        'use_symmetries_coarse_grid',\n",
    "        'no_symmetries_fine_grid',\n",
    "        'no_symmetries_shifted_grid',\n",
    "        'screening_semiconductor',\n",
    "        'use_velocity',\n",
    "        'gaussian_broadening',\n",
    "        'eqp_co_corrections',\n",
    "        ],\n",
    "    \n",
    "    absorption_extra_variables = {\n",
    "        'energy_resolution' : 0.15,\n",
    "        },\n",
    "    \n",
    "    **mpi_settings)"
   ]
  },
  {
   "cell_type": "code",
   "execution_count": null,
   "metadata": {},
   "outputs": [],
   "source": [
    "flow.write()\n",
    "flow.run()\n",
    "flow.report()"
   ]
  },
  {
   "cell_type": "markdown",
   "metadata": {},
   "source": [
    "## Custom workflows ##"
   ]
  },
  {
   "cell_type": "markdown",
   "metadata": {},
   "source": [
    "For a realistic GW or BSE calculation, in general, you don't run every steps all at once like we did. You actually perform a **convergence study**, in which you gradually increase the parameters until the calculation is converged. For example, in a GW calculation, we have the following convergence studies to perform:\n",
    "\n",
    "* Convergence of the k-points grids for epsilon\n",
    "* Convergence of the q-points grid for sigma\n",
    "* Convergence on the number of bands for epsilon\n",
    "* Convergence on the number of bands for sigma\n",
    "* Convergence on the size of the dielectric matrix\n",
    "\n",
    "For these, you will need to construct your own workflow. Here is an example."
   ]
  },
  {
   "cell_type": "code",
   "execution_count": null,
   "metadata": {},
   "outputs": [],
   "source": [
    "from os.path import join as pjoin\n",
    "from BGWpy import Workflow\n",
    "\n",
    "workflow = Workflow(dirname='Runs/50-Workflow')\n",
    "\n",
    "\n",
    "epsilon_input_files = dict(\n",
    "    wfn_fname=wfn_flow.wfn_fname,\n",
    "    wfnq_fname=wfnq_flow.wfn_fname,\n",
    ")\n",
    "\n",
    "sigma_input_files = dict(\n",
    "    wfn_co_fname=wfn_co_flow.wfn_fname,\n",
    "    rho_fname=wfn_co_flow.rho_fname,\n",
    "    vxc_fname=wfn_co_flow.vxc_fname,\n",
    ")\n",
    "\n",
    "ecuteps_l = [5.0, 7.5, 10.0]\n",
    "\n",
    "for i, ecuteps in enumerate(ecuteps_l):\n",
    "\n",
    "    epsilon_settings['ecuteps'] = ecuteps\n",
    "    \n",
    "    epsilon_task = EpsilonTask(\n",
    "        dirname=pjoin(workflow.dirname, 'Epsilon{}'.format(i)),\n",
    "        structure=structure,\n",
    "        **epsilon_input_files,\n",
    "        **epsilon_settings,\n",
    "        **mpi_settings)\n",
    "    \n",
    "    sigma_task = SigmaTask(\n",
    "        dirname=pjoin(workflow.dirname, 'Sigma{}'.format(i)),\n",
    "        structure=structure,\n",
    "\n",
    "        eps0mat_fname=epsilon_task.eps0mat_fname,\n",
    "        epsmat_fname=epsilon_task.epsmat_fname,\n",
    "        \n",
    "        **sigma_input_files,\n",
    "        **sigma_settings,\n",
    "        **mpi_settings)\n",
    "\n",
    "    workflow.add_tasks([epsilon_task, sigma_task])"
   ]
  },
  {
   "cell_type": "code",
   "execution_count": null,
   "metadata": {},
   "outputs": [],
   "source": [
    "workflow.write()\n",
    "workflow.run()\n",
    "workflow.report()"
   ]
  },
  {
   "cell_type": "markdown",
   "metadata": {},
   "source": [
    "Note that you could also run and report each task sequentially with"
   ]
  },
  {
   "cell_type": "code",
   "execution_count": null,
   "metadata": {},
   "outputs": [],
   "source": [
    "for task in workflow.tasks:\n",
    "    task.run()\n",
    "    task.report()"
   ]
  },
  {
   "cell_type": "markdown",
   "metadata": {},
   "source": [
    "And of course, you should now check the result of the calculations in the different output files, and plot the convergence of the quasiparticle energies as a function of ecuteps."
   ]
  },
  {
   "cell_type": "markdown",
   "metadata": {},
   "source": [
    "# Closing word #"
   ]
  },
  {
   "cell_type": "markdown",
   "metadata": {},
   "source": [
    "`BGWpy` allows you to use pre-defined workflows and custom ones. However, it is your own responsibility to check every input parameter, and verify the convergence of the results. Happy computing!"
   ]
  }
 ],
 "metadata": {
  "kernelspec": {
   "display_name": "Python 3 (ipykernel)",
   "language": "python",
   "name": "python3"
  },
  "language_info": {
   "codemirror_mode": {
    "name": "ipython",
    "version": 3
   },
   "file_extension": ".py",
   "mimetype": "text/x-python",
   "name": "python",
   "nbconvert_exporter": "python",
   "pygments_lexer": "ipython3",
   "version": "3.9.7"
  }
 },
 "nbformat": 4,
 "nbformat_minor": 2
}
